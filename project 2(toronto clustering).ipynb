{
 "cells": [
  {
   "cell_type": "markdown",
   "source": [
    "# Toronto Neighborhoods #\r\n"
   ],
   "metadata": {}
  },
  {
   "cell_type": "markdown",
   "source": [
    "# question 1 #"
   ],
   "metadata": {}
  },
  {
   "cell_type": "code",
   "execution_count": null,
   "source": [
    "\r\n",
    "import pandas as pd\r\n",
    "import requests"
   ],
   "outputs": [],
   "metadata": {}
  },
  {
   "cell_type": "code",
   "execution_count": null,
   "source": [
    "url = \"https://en.wikipedia.org/wiki/List_of_postal_codes_of_Canada:_M\"\r\n",
    "wiki_url = requests.get(url)\r\n",
    "wiki_url"
   ],
   "outputs": [],
   "metadata": {}
  },
  {
   "cell_type": "code",
   "execution_count": null,
   "source": [
    "wiki_data = pd.read_html(wiki_url.text)\r\n",
    "wiki_data"
   ],
   "outputs": [],
   "metadata": {}
  },
  {
   "cell_type": "code",
   "execution_count": null,
   "source": [
    "len(wiki_data), type(wiki_data)"
   ],
   "outputs": [],
   "metadata": {}
  },
  {
   "cell_type": "markdown",
   "source": [
    "## only first table needed, drop others ##"
   ],
   "metadata": {}
  },
  {
   "cell_type": "code",
   "execution_count": null,
   "source": [
    "\r\n",
    "wiki_data = wiki_data[0]\r\n",
    "wiki_data"
   ],
   "outputs": [],
   "metadata": {}
  },
  {
   "cell_type": "markdown",
   "source": [
    "# dropping unassigned borough #"
   ],
   "metadata": {}
  },
  {
   "cell_type": "code",
   "execution_count": null,
   "source": [
    "\r\n",
    "df = wiki_data[wiki_data[\"Borough\"] != \"Not assigned\"]\r\n",
    "df"
   ],
   "outputs": [],
   "metadata": {}
  },
  {
   "cell_type": "markdown",
   "source": [
    "## groupby postal code ##"
   ],
   "metadata": {}
  },
  {
   "cell_type": "code",
   "execution_count": null,
   "source": [
    "df = df.groupby(['Postal Code']).head()\r\n",
    "df"
   ],
   "outputs": [],
   "metadata": {}
  },
  {
   "cell_type": "markdown",
   "source": [
    "## checking unassigned neighborhood count ##"
   ],
   "metadata": {}
  },
  {
   "cell_type": "code",
   "execution_count": null,
   "source": [
    "df.Neighbourhood.str.count(\"Not assigned\").sum()"
   ],
   "outputs": [],
   "metadata": {}
  },
  {
   "cell_type": "code",
   "execution_count": null,
   "source": [
    "\r\n",
    "df = df.reset_index()\r\n",
    "df"
   ],
   "outputs": [],
   "metadata": {}
  },
  {
   "cell_type": "code",
   "execution_count": null,
   "source": [
    "\r\n",
    "df.drop(['index'], axis = 'columns', inplace = True)\r\n",
    "df"
   ],
   "outputs": [],
   "metadata": {}
  },
  {
   "cell_type": "code",
   "execution_count": null,
   "source": [
    "\r\n",
    "df.shape"
   ],
   "outputs": [],
   "metadata": {}
  },
  {
   "cell_type": "markdown",
   "source": [
    "#   Question 2 #"
   ],
   "metadata": {}
  },
  {
   "cell_type": "code",
   "execution_count": null,
   "source": [
    "pip install geocoder"
   ],
   "outputs": [],
   "metadata": {}
  },
  {
   "cell_type": "code",
   "execution_count": null,
   "source": [
    "import geocoder "
   ],
   "outputs": [],
   "metadata": {}
  },
  {
   "cell_type": "markdown",
   "source": [
    "## import files ##"
   ],
   "metadata": {}
  },
  {
   "cell_type": "code",
   "execution_count": null,
   "source": [
    "\r\n",
    "data = pd.read_csv(\"https://cocl.us/Geospatial_data\")\r\n",
    "data"
   ],
   "outputs": [],
   "metadata": {}
  },
  {
   "cell_type": "code",
   "execution_count": null,
   "source": [
    "print(\"The shape of our wiki data is: \", df.shape)\r\n",
    "print(\"the shape of our csv data is: \", data.shape)\r\n"
   ],
   "outputs": [],
   "metadata": {}
  },
  {
   "cell_type": "markdown",
   "source": [
    "Since the dimensions are the same, we can try to join on the postal codes to get the required data.\r\n",
    "\r\n",
    "Checking the column types of both the dataframes, especially Postal Code column since we are trying to join on it"
   ],
   "metadata": {}
  },
  {
   "cell_type": "code",
   "execution_count": null,
   "source": [
    "\r\n",
    "df.dtypes"
   ],
   "outputs": [],
   "metadata": {}
  },
  {
   "cell_type": "code",
   "execution_count": null,
   "source": [
    "data.dtypes\r\n"
   ],
   "outputs": [],
   "metadata": {}
  },
  {
   "cell_type": "code",
   "execution_count": null,
   "source": [
    "combined_data = df.join(data.set_index('Postal Code'), on='Postal Code', how='inner')\r\n",
    "combined_data"
   ],
   "outputs": [],
   "metadata": {}
  },
  {
   "cell_type": "code",
   "execution_count": null,
   "source": [
    "combined_data.shape"
   ],
   "outputs": [],
   "metadata": {}
  },
  {
   "cell_type": "markdown",
   "source": [
    "# Question 3 #"
   ],
   "metadata": {}
  },
  {
   "cell_type": "markdown",
   "source": [
    "Drawing inspiration from the previous lab where we cluster the neighbourhood of NYC, We cluster Toronto based on the similarities of the venues categories using Kmeans clustering and Foursquare API."
   ],
   "metadata": {}
  },
  {
   "cell_type": "code",
   "execution_count": null,
   "source": [
    "from geopy.geocoders import Nominatim"
   ],
   "outputs": [],
   "metadata": {}
  },
  {
   "cell_type": "code",
   "execution_count": null,
   "source": [
    "address = 'Toronto, Ontario'\r\n",
    "\r\n",
    "geolocator = Nominatim(user_agent=\"toronto_explorer\")\r\n",
    "location = geolocator.geocode(address)\r\n",
    "latitude = location.latitude\r\n",
    "longitude = location.longitude\r\n",
    "print('The coordinates of Toronto are {}, {}.'.format(latitude, longitude))"
   ],
   "outputs": [],
   "metadata": {}
  },
  {
   "cell_type": "markdown",
   "source": [
    "\r\n",
    "The coordinates of Toronto are 43.6534817, -79.3839347.\r\n",
    "Let's visualize the map of Toronto"
   ],
   "metadata": {}
  },
  {
   "cell_type": "code",
   "execution_count": null,
   "source": [
    "import folium"
   ],
   "outputs": [],
   "metadata": {}
  },
  {
   "cell_type": "code",
   "execution_count": null,
   "source": [
    "\r\n",
    "# Creating the map of Toronto\r\n",
    "map_Toronto = folium.Map(location=[latitude, longitude], zoom_start=11)\r\n",
    "\r\n",
    "# adding markers to map\r\n",
    "for latitude, longitude, borough, neighbourhood in zip(combined_data['Latitude'], combined_data['Longitude'], combined_data['Borough'], combined_data['Neighbourhood']):\r\n",
    "    label = '{}, {}'.format(neighbourhood, borough)\r\n",
    "    label = folium.Popup(label, parse_html=True)\r\n",
    "    folium.CircleMarker(\r\n",
    "        [latitude, longitude],\r\n",
    "        radius=5,\r\n",
    "        popup=label,\r\n",
    "        color='red',\r\n",
    "        fill=True\r\n",
    "        ).add_to(map_Toronto)  \r\n",
    "    \r\n",
    "map_Toronto"
   ],
   "outputs": [],
   "metadata": {}
  },
  {
   "cell_type": "markdown",
   "source": [
    "Initializing Foursquare API credentials"
   ],
   "metadata": {}
  },
  {
   "cell_type": "code",
   "execution_count": null,
   "source": [
    "CLIENT_ID = 'LDIJF4KI5VGMMA3NNDLFZWHR12TCMNTUL0TUC3QPZ3SJD040' \r\n",
    "CLIENT_SECRET = 'EOOOZ3EF5N0FOMNUJVTDV0SXVUVVEBMWPFXMNBK1R5K4H55A'\r\n",
    "VERSION = '20180605' # Foursquare API version\r\n",
    "\r\n",
    "print('Your credentails:')\r\n",
    "print('CLIENT_ID: ' + CLIENT_ID)\r\n",
    "print('CLIENT_SECRET:' + CLIENT_SECRET)"
   ],
   "outputs": [],
   "metadata": {}
  },
  {
   "cell_type": "markdown",
   "source": [
    "Next, we create a function to get all the venue categories in Toronto"
   ],
   "metadata": {}
  },
  {
   "cell_type": "code",
   "execution_count": null,
   "source": [
    "def getNearbyVenues(names, latitudes, longitudes, radius=500):\r\n",
    "    \r\n",
    "    venues_list=[]\r\n",
    "    for name, lat, lng in zip(names, latitudes, longitudes):\r\n",
    "        print(name)\r\n",
    "            \r\n",
    "        # create the API request URL\r\n",
    "        url = 'https://api.foursquare.com/v2/venues/explore?&client_id={}&client_secret={}&v={}&ll={},{}&radius={}'.format(\r\n",
    "            CLIENT_ID, \r\n",
    "            CLIENT_SECRET, \r\n",
    "            VERSION, \r\n",
    "            lat, \r\n",
    "            lng, \r\n",
    "            radius\r\n",
    "            )\r\n",
    "            \r\n",
    "        # make the GET request\r\n",
    "        results = requests.get(url).json()[\"response\"]['groups'][0]['items']\r\n",
    "        \r\n",
    "        # return only relevant information for each nearby venue\r\n",
    "        venues_list.append([(\r\n",
    "            name, \r\n",
    "            lat, \r\n",
    "            lng, \r\n",
    "            v['venue']['name'], \r\n",
    "            v['venue']['categories'][0]['name']) for v in results])\r\n",
    "\r\n",
    "    nearby_venues = pd.DataFrame([item for venue_list in venues_list for item in venue_list])\r\n",
    "    nearby_venues.columns = ['Neighbourhood', \r\n",
    "                  'Neighbourhood Latitude', \r\n",
    "                  'Neighbourhood Longitude', \r\n",
    "                  'Venue', \r\n",
    "                  'Venue Category']\r\n",
    "    \r\n",
    "    return(nearby_venues)"
   ],
   "outputs": [],
   "metadata": {}
  },
  {
   "cell_type": "markdown",
   "source": [
    "Collecting the venues in Toronto for each Neighbourhood"
   ],
   "metadata": {}
  },
  {
   "cell_type": "code",
   "execution_count": null,
   "source": [
    "\r\n",
    "venues_in_toronto = getNearbyVenues(combined_data['Neighbourhood'], combined_data['Latitude'], combined_data['Longitude'])"
   ],
   "outputs": [],
   "metadata": {}
  },
  {
   "cell_type": "code",
   "execution_count": null,
   "source": [
    "\r\n",
    "venues_in_toronto.shape"
   ],
   "outputs": [],
   "metadata": {}
  },
  {
   "cell_type": "markdown",
   "source": [
    "group by neighborhood"
   ],
   "metadata": {}
  },
  {
   "cell_type": "code",
   "execution_count": null,
   "source": [
    "venues_in_toronto.groupby('Neighbourhood').head()"
   ],
   "outputs": [],
   "metadata": {}
  },
  {
   "cell_type": "code",
   "execution_count": null,
   "source": [
    "venues_in_toronto.groupby('Venue Category').max()"
   ],
   "outputs": [],
   "metadata": {}
  },
  {
   "cell_type": "markdown",
   "source": [
    "## one hot encoding venur categories ##"
   ],
   "metadata": {}
  },
  {
   "cell_type": "code",
   "execution_count": null,
   "source": [
    "toronto_venue_cat = pd.get_dummies(venues_in_toronto[['Venue Category']], prefix=\"\", prefix_sep=\"\")\r\n",
    "toronto_venue_cat"
   ],
   "outputs": [],
   "metadata": {}
  },
  {
   "cell_type": "markdown",
   "source": [
    "add together"
   ],
   "metadata": {}
  },
  {
   "cell_type": "code",
   "execution_count": null,
   "source": [
    "toronto_venue_cat['Neighbourhood'] = venues_in_toronto['Neighbourhood'] \r\n",
    "\r\n",
    "# moving neighborhood column to the first column\r\n",
    "fixed_columns = [toronto_venue_cat.columns[-1]] + list(toronto_venue_cat.columns[:-1])\r\n",
    "toronto_venue_cat = toronto_venue_cat[fixed_columns]\r\n",
    "\r\n",
    "toronto_venue_cat.head()"
   ],
   "outputs": [],
   "metadata": {}
  },
  {
   "cell_type": "markdown",
   "source": [
    "We will group the Neighbourhoods, calculate the mean venue categories in each Neighbourhood\r\n",
    "\r\n"
   ],
   "metadata": {}
  },
  {
   "cell_type": "code",
   "execution_count": null,
   "source": [
    "toronto_grouped = toronto_venue_cat.groupby('Neighbourhood').mean().reset_index()\r\n",
    "toronto_grouped.head()"
   ],
   "outputs": [],
   "metadata": {}
  },
  {
   "cell_type": "markdown",
   "source": [
    "Let's make a function to get the top most common venue categories"
   ],
   "metadata": {}
  },
  {
   "cell_type": "code",
   "execution_count": null,
   "source": [
    "def return_most_common_venues(row, num_top_venues):\r\n",
    "    row_categories = row.iloc[1:]\r\n",
    "    row_categories_sorted = row_categories.sort_values(ascending=False)\r\n",
    "    \r\n",
    "    return row_categories_sorted.index.values[0:num_top_venues]"
   ],
   "outputs": [],
   "metadata": {}
  },
  {
   "cell_type": "code",
   "execution_count": null,
   "source": [
    "import numpy as np"
   ],
   "outputs": [],
   "metadata": {}
  },
  {
   "cell_type": "markdown",
   "source": [
    "There are way too many venue categories, we can take the top 10 to cluster the neighbourhoods"
   ],
   "metadata": {}
  },
  {
   "cell_type": "code",
   "execution_count": null,
   "source": [
    "num_top_venues = 10\r\n",
    "\r\n",
    "indicators = ['st', 'nd', 'rd']\r\n",
    "\r\n",
    "# create columns according to number of top venues\r\n",
    "columns = ['Neighbourhood']\r\n",
    "for ind in np.arange(num_top_venues):\r\n",
    "    try:\r\n",
    "        columns.append('{}{} Most Common Venue'.format(ind+1, indicators[ind]))\r\n",
    "    except:\r\n",
    "        columns.append('{}th Most Common Venue'.format(ind+1))\r\n",
    "\r\n",
    "# create a new dataframe\r\n",
    "neighborhoods_venues_sorted = pd.DataFrame(columns=columns)\r\n",
    "neighborhoods_venues_sorted['Neighbourhood'] = toronto_grouped['Neighbourhood']\r\n",
    "\r\n",
    "for ind in np.arange(toronto_grouped.shape[0]):\r\n",
    "    neighborhoods_venues_sorted.iloc[ind, 1:] = return_most_common_venues(toronto_grouped.iloc[ind, :], num_top_venues)\r\n",
    "\r\n",
    "neighborhoods_venues_sorted.head()"
   ],
   "outputs": [],
   "metadata": {}
  },
  {
   "cell_type": "markdown",
   "source": [
    "Let's make the model to cluster our Neighbourhoods"
   ],
   "metadata": {}
  },
  {
   "cell_type": "code",
   "execution_count": null,
   "source": [
    "# import k-means from clustering stage\r\n",
    "from sklearn.cluster import KMeans"
   ],
   "outputs": [],
   "metadata": {}
  },
  {
   "cell_type": "code",
   "execution_count": null,
   "source": [
    "# set number of clusters\r\n",
    "k_num_clusters = 5\r\n",
    "\r\n",
    "toronto_grouped_clustering = toronto_grouped.drop('Neighbourhood', 1)\r\n",
    "\r\n",
    "# run k-means clustering\r\n",
    "kmeans = KMeans(n_clusters=k_num_clusters, random_state=0).fit(toronto_grouped_clustering)\r\n",
    "kmeans"
   ],
   "outputs": [],
   "metadata": {}
  },
  {
   "cell_type": "markdown",
   "source": [
    "Checking the labelling of our model"
   ],
   "metadata": {}
  },
  {
   "cell_type": "code",
   "execution_count": null,
   "source": [
    "kmeans.labels_[0:100]"
   ],
   "outputs": [],
   "metadata": {}
  },
  {
   "cell_type": "markdown",
   "source": [
    "Let's add the clustering Label column to the top 10 common venue categories"
   ],
   "metadata": {}
  },
  {
   "cell_type": "code",
   "execution_count": null,
   "source": [
    "neighborhoods_venues_sorted.insert(0, 'Cluster Labels', kmeans.labels_)"
   ],
   "outputs": [],
   "metadata": {}
  },
  {
   "cell_type": "markdown",
   "source": [
    "\r\n",
    "Join toronto_grouped with combined_data on neighbourhood to add latitude & longitude for each neighborhood to prepare it for plotting"
   ],
   "metadata": {}
  },
  {
   "cell_type": "code",
   "execution_count": null,
   "source": [
    "toronto_merged = combined_data\r\n",
    "\r\n",
    "toronto_merged = toronto_merged.join(neighborhoods_venues_sorted.set_index('Neighbourhood'), on='Neighbourhood')\r\n",
    "\r\n",
    "toronto_merged.head()"
   ],
   "outputs": [],
   "metadata": {}
  },
  {
   "cell_type": "markdown",
   "source": [
    "Drop all the NaN values to prevent data skew"
   ],
   "metadata": {}
  },
  {
   "cell_type": "code",
   "execution_count": null,
   "source": [
    "toronto_merged_nonan = toronto_merged.dropna(subset=['Cluster Labels'])"
   ],
   "outputs": [],
   "metadata": {}
  },
  {
   "cell_type": "markdown",
   "source": [
    "\r\n",
    "Plotting the clusters on the map"
   ],
   "metadata": {}
  },
  {
   "cell_type": "code",
   "execution_count": null,
   "source": [
    "import matplotlib.cm as cm\r\n",
    "import matplotlib.colors as colors"
   ],
   "outputs": [],
   "metadata": {}
  },
  {
   "cell_type": "code",
   "execution_count": null,
   "source": [
    "map_clusters = folium.Map(location=[latitude, longitude], zoom_start=11)\r\n",
    "\r\n",
    "# set color scheme for the clusters\r\n",
    "x = np.arange(k_num_clusters)\r\n",
    "ys = [i + x + (i*x)**2 for i in range(k_num_clusters)]\r\n",
    "colors_array = cm.rainbow(np.linspace(0, 1, len(ys)))\r\n",
    "rainbow = [colors.rgb2hex(i) for i in colors_array]\r\n",
    "\r\n",
    "# add markers to the map\r\n",
    "markers_colors = []\r\n",
    "for lat, lon, poi, cluster in zip(toronto_merged_nonan['Latitude'], toronto_merged_nonan['Longitude'], toronto_merged_nonan['Neighbourhood'], toronto_merged_nonan['Cluster Labels']):\r\n",
    "    label = folium.Popup('Cluster ' + str(int(cluster) +1) + '\\n' + str(poi) , parse_html=True)\r\n",
    "    folium.CircleMarker(\r\n",
    "        [lat, lon],\r\n",
    "        radius=5,\r\n",
    "        popup=label,\r\n",
    "        color=rainbow[int(cluster-1)],\r\n",
    "        fill=True,\r\n",
    "        fill_color=rainbow[int(cluster-1)]\r\n",
    "        ).add_to(map_clusters)\r\n",
    "        \r\n",
    "map_clusters"
   ],
   "outputs": [],
   "metadata": {}
  },
  {
   "cell_type": "markdown",
   "source": [
    "verify all clusters"
   ],
   "metadata": {}
  },
  {
   "cell_type": "markdown",
   "source": [
    "cluster 1"
   ],
   "metadata": {}
  },
  {
   "cell_type": "code",
   "execution_count": null,
   "source": [
    "toronto_merged_nonan.loc[toronto_merged_nonan['Cluster Labels'] == 0, toronto_merged_nonan.columns[[1] + list(range(5, toronto_merged_nonan.shape[1]))]]"
   ],
   "outputs": [],
   "metadata": {}
  },
  {
   "cell_type": "markdown",
   "source": [
    "cluster 2"
   ],
   "metadata": {}
  },
  {
   "cell_type": "code",
   "execution_count": null,
   "source": [
    "\r\n",
    "toronto_merged_nonan.loc[toronto_merged_nonan['Cluster Labels'] == 1, toronto_merged_nonan.columns[[1] + list(range(5, toronto_merged_nonan.shape[1]))]]"
   ],
   "outputs": [],
   "metadata": {}
  },
  {
   "cell_type": "markdown",
   "source": [
    "cluster 3"
   ],
   "metadata": {}
  },
  {
   "cell_type": "code",
   "execution_count": null,
   "source": [
    "\r\n",
    "toronto_merged_nonan.loc[toronto_merged_nonan['Cluster Labels'] == 1, toronto_merged_nonan.columns[[1] + list(range(5, toronto_merged_nonan.shape[1]))]]"
   ],
   "outputs": [],
   "metadata": {}
  },
  {
   "cell_type": "markdown",
   "source": [
    "cluster 4"
   ],
   "metadata": {}
  },
  {
   "cell_type": "code",
   "execution_count": null,
   "source": [
    "toronto_merged_nonan.loc[toronto_merged_nonan['Cluster Labels'] == 3, toronto_merged_nonan.columns[[1] + list(range(5, toronto_merged_nonan.shape[1]))]]"
   ],
   "outputs": [],
   "metadata": {}
  },
  {
   "cell_type": "markdown",
   "source": [
    "cluster 5"
   ],
   "metadata": {}
  },
  {
   "cell_type": "code",
   "execution_count": null,
   "source": [
    "\r\n",
    "toronto_merged_nonan.loc[toronto_merged_nonan['Cluster Labels'] == 4, toronto_merged_nonan.columns[[1] + list(range(5, toronto_merged_nonan.shape[1]))]]"
   ],
   "outputs": [],
   "metadata": {}
  }
 ],
 "metadata": {
  "orig_nbformat": 4,
  "language_info": {
   "name": "python",
   "version": "3.9.2",
   "mimetype": "text/x-python",
   "codemirror_mode": {
    "name": "ipython",
    "version": 3
   },
   "pygments_lexer": "ipython3",
   "nbconvert_exporter": "python",
   "file_extension": ".py"
  },
  "kernelspec": {
   "name": "python3",
   "display_name": "Python 3.9.2 64-bit"
  },
  "interpreter": {
   "hash": "1eaf350aab7daa282de70178293afa19320de413c40451f3db89ccf829116695"
  }
 },
 "nbformat": 4,
 "nbformat_minor": 2
}